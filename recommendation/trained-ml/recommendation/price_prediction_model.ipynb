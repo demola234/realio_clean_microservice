{
 "cells": [
  {
   "cell_type": "code",
   "execution_count": 9,
   "metadata": {},
   "outputs": [],
   "source": [
    "import pandas as pd\n",
    "import numpy as np\n",
    "import re\n",
    "from sklearn.model_selection import train_test_split\n",
    "from sklearn.ensemble import RandomForestRegressor\n",
    "from sklearn.metrics import mean_squared_error, r2_score\n",
    "from sklearn.preprocessing import StandardScaler\n",
    "from sklearn.decomposition import PCA\n",
    "from sklearn.linear_model import LinearRegression\n",
    "from sklearn.ensemble import GradientBoostingRegressor\n",
    "import matplotlib.pyplot as plt\n",
    "from fuzzywuzzy import process  # For fuzzy matching\n",
    "import time\n",
    "import joblib\n",
    "import tensorflow as tf\n",
    "from tensorflow import keras"
   ]
  },
  {
   "cell_type": "code",
   "execution_count": 10,
   "metadata": {},
   "outputs": [],
   "source": [
    "\n",
    "# Load data from JSON file or your data source\n",
    "property_data = pd.read_json('properties.json')"
   ]
  },
  {
   "cell_type": "code",
   "execution_count": 11,
   "metadata": {},
   "outputs": [],
   "source": [
    "\n",
    "# Adjusted function to clean the 'rooms' field\n",
    "def clean_rooms_info(rooms):\n",
    "    if pd.isna(rooms) or not isinstance(rooms, str):\n",
    "        return [np.nan, np.nan, np.nan, np.nan]\n",
    "    \n",
    "    # Remove ' Save' and any irrelevant trailing text\n",
    "    rooms = rooms.replace(' Save', '').strip()\n",
    "    \n",
    "    # Extract numbers associated with room types using regex\n",
    "    bedrooms = bathrooms = toilets = parking_spaces = np.nan\n",
    "\n",
    "    if 'Bedrooms' in rooms:\n",
    "        bedrooms_match = re.search(r'(\\d+)\\s*Bedrooms?', rooms)\n",
    "        if bedrooms_match:\n",
    "            bedrooms = int(bedrooms_match.group(1))\n",
    "    \n",
    "    if 'Bathrooms' in rooms:\n",
    "        bathrooms_match = re.search(r'(\\d+)\\s*Bathrooms?', rooms)\n",
    "        if bathrooms_match:\n",
    "            bathrooms = int(bathrooms_match.group(1))\n",
    "\n",
    "    if 'Toilets' in rooms:\n",
    "        toilets_match = re.search(r'(\\d+)\\s*Toilets?', rooms)\n",
    "        if toilets_match:\n",
    "            toilets = int(toilets_match.group(1))\n",
    "\n",
    "    if 'Parking Spaces' in rooms:\n",
    "        parking_spaces_match = re.search(r'(\\d+)\\s*Parking Spaces?', rooms)\n",
    "        if parking_spaces_match:\n",
    "            parking_spaces = int(parking_spaces_match.group(1))\n",
    "    \n",
    "    return [bedrooms, bathrooms, toilets, parking_spaces]\n",
    "\n",
    "# Apply the cleaning function to the 'rooms' field\n",
    "property_data[['Bedrooms', 'Bathrooms', 'Toilets', 'Parking Spaces']] = property_data['rooms'].apply(\n",
    "    lambda x: pd.Series(clean_rooms_info(x))\n",
    ")"
   ]
  },
  {
   "cell_type": "code",
   "execution_count": 12,
   "metadata": {},
   "outputs": [],
   "source": [
    "\n",
    "# Convert numerical columns to proper types\n",
    "property_data['Bedrooms'] = pd.to_numeric(property_data['Bedrooms'], errors='coerce')\n",
    "property_data['Bathrooms'] = pd.to_numeric(property_data['Bathrooms'], errors='coerce')\n",
    "property_data['Toilets'] = pd.to_numeric(property_data['Toilets'], errors='coerce')\n",
    "property_data['Parking Spaces'] = pd.to_numeric(property_data['Parking Spaces'], errors='coerce')\n",
    "\n",
    "# Clean the 'price' column (remove non-numeric characters and convert to numeric)\n",
    "property_data['price'] = property_data['price'].replace('[\\₦\\$,]', '', regex=True).astype(float)\n",
    "\n",
    "# Fill missing values in numerical columns\n",
    "property_data['Bedrooms'] = property_data['Bedrooms'].fillna(property_data['Bedrooms'].median())\n",
    "property_data['Bathrooms'] = property_data['Bathrooms'].fillna(property_data['Bathrooms'].median())\n",
    "property_data['Toilets'] = property_data['Toilets'].fillna(property_data['Toilets'].median())\n",
    "property_data['Parking Spaces'] = property_data['Parking Spaces'].fillna(property_data['Parking Spaces'].median())"
   ]
  },
  {
   "cell_type": "code",
   "execution_count": 13,
   "metadata": {},
   "outputs": [
    {
     "name": "stdout",
     "output_type": "stream",
     "text": [
      "Random Forest - RMSE: 12509680239.973299, R²: -0.10392741465960298\n",
      "Training Time: 0.91 seconds\n"
     ]
    }
   ],
   "source": [
    "# One-Hot Encoding for 'location' to emphasize its importance\n",
    "property_data = pd.get_dummies(property_data, columns=['location'])\n",
    "\n",
    "# Interaction Term: Multiply Bedrooms and Bathrooms\n",
    "property_data['Bedrooms_Bathrooms'] = property_data['Bedrooms'] * property_data['Bathrooms']\n",
    "\n",
    "# Remove rows with missing price\n",
    "property_data.dropna(subset=['price'], inplace=True)\n",
    "\n",
    "# Prepare features (X) and target (y)\n",
    "X = property_data.drop(columns=['price', 'rooms'])\n",
    "y = property_data['price']\n",
    "\n",
    "# Ensure all columns are numeric\n",
    "non_numeric_columns = X.select_dtypes(exclude=[np.number]).columns\n",
    "if len(non_numeric_columns) > 0:\n",
    "    X[non_numeric_columns] = X[non_numeric_columns].apply(pd.to_numeric, errors='coerce')\n",
    "\n",
    "# Fill any remaining NaN values with 0 to avoid errors in scaling\n",
    "X = X.fillna(0)\n",
    "\n",
    "# Normalize numerical features\n",
    "scaler = StandardScaler()\n",
    "X_scaled = pd.DataFrame(scaler.fit_transform(X), columns=X.columns)\n",
    "\n",
    "# Dimensionality Reduction using PCA\n",
    "pca = PCA(n_components=20)  # Keep the top 20 principal components to speed up training\n",
    "X_reduced = pca.fit_transform(X_scaled)\n",
    "\n",
    "# Split data into training and testing sets\n",
    "X_train, X_test, y_train, y_test = train_test_split(X_reduced, y, test_size=0.2, random_state=42)\n",
    "\n",
    "# Train a regression model (Optimized Random Forest)\n",
    "start_time = time.time()  # Start time for training\n",
    "price_model_rf = RandomForestRegressor(\n",
    "    n_estimators=50,  # Reduced number of trees\n",
    "    max_depth=10,  # Limit the depth of each tree\n",
    "    random_state=42,\n",
    "    n_jobs=-1  # Use multiple cores for parallel processing\n",
    ")\n",
    "price_model_rf.fit(X_train, y_train)\n",
    "training_time = time.time() - start_time  # Calculate training time\n",
    "\n",
    "# Predict on the test set\n",
    "y_pred_rf = price_model_rf.predict(X_test)\n",
    "mse_rf = mean_squared_error(y_test, y_pred_rf)\n",
    "rmse_rf = np.sqrt(mse_rf)\n",
    "r2_rf = r2_score(y_test, y_pred_rf)\n",
    "print(f\"Random Forest - RMSE: {rmse_rf}, R²: {r2_rf}\")\n",
    "print(f\"Training Time: {training_time:.2f} seconds\")\n",
    "\n",
    "# Function to predict the price based on features and location with one-hot encoding\n",
    "def predict_price(bedrooms, bathrooms, toilets, parking_spaces, location):\n",
    "    # Create a DataFrame for the input features\n",
    "    input_data = pd.DataFrame([{\n",
    "        'Bedrooms': bedrooms,\n",
    "        'Bathrooms': bathrooms,\n",
    "        'Toilets': toilets,\n",
    "        'Parking Spaces': parking_spaces,\n",
    "        'Bedrooms_Bathrooms': bedrooms * bathrooms  # Interaction term\n",
    "    }])\n",
    "    \n",
    "    # One-hot encode location; if not found, create dummy columns efficiently\n",
    "    location_columns = {f'location_{location}': 1} if f'location_{location}' in X.columns else {}\n",
    "    \n",
    "    # Add missing columns with 0 values\n",
    "    all_location_columns = {col: 0 for col in X.columns if col.startswith('location_')}\n",
    "    all_location_columns.update(location_columns)\n",
    "    \n",
    "    # Create a DataFrame for the location encoding\n",
    "    location_data = pd.DataFrame([all_location_columns])\n",
    "    \n",
    "    # Concatenate the input data with the location data\n",
    "    input_data = pd.concat([input_data, location_data], axis=1)\n",
    "\n",
    "    # Ensure columns are consistent with training data\n",
    "    input_data = input_data.reindex(columns=X.columns, fill_value=0)\n",
    "    \n",
    "    # Normalize the input features\n",
    "    input_data_scaled = scaler.transform(input_data)\n",
    "    \n",
    "    # Apply PCA transformation\n",
    "    input_data_reduced = pca.transform(input_data_scaled)\n",
    "\n",
    "    # Predict the price using the trained model\n",
    "    predicted_price = price_model_rf.predict(input_data_reduced)[0]\n",
    "    \n",
    "    return predicted_price\n",
    "\n"
   ]
  },
  {
   "cell_type": "code",
   "execution_count": 14,
   "metadata": {},
   "outputs": [
    {
     "name": "stdout",
     "output_type": "stream",
     "text": [
      "Predicted price for the property: ₦138,493,586.27\n"
     ]
    },
    {
     "name": "stderr",
     "output_type": "stream",
     "text": [
      "/Users/ademola/.pyenv/versions/3.11.2/lib/python3.11/site-packages/sklearn/base.py:493: UserWarning: X does not have valid feature names, but PCA was fitted with feature names\n",
      "  warnings.warn(\n"
     ]
    }
   ],
   "source": [
    "# Example input features for a new property\n",
    "bedrooms = 1\n",
    "bathrooms = 2\n",
    "toilets = 2\n",
    "parking_spaces = 1\n",
    "location = \"Wuse, Abuja\"  \n",
    "\n",
    "# Predict the price\n",
    "predicted_price = predict_price(bedrooms, bathrooms, toilets, parking_spaces, location)\n",
    "print(f\"Predicted price for the property: ₦{predicted_price:,.2f}\")\n"
   ]
  },
  {
   "cell_type": "code",
   "execution_count": 15,
   "metadata": {},
   "outputs": [
    {
     "data": {
      "image/png": "[encoded data removed]",
      "text/plain": [
       "<Figure size 1000x600 with 1 Axes>"
      ]
     },
     "metadata": {},
     "output_type": "display_data"
    }
   ],
   "source": [
    "\n",
    "# Plot Actual vs Predicted Prices for Random Forest\n",
    "plt.figure(figsize=(10, 6))\n",
    "plt.scatter(y_test, y_pred_rf, alpha=0.6)\n",
    "plt.xlabel('Actual Prices')\n",
    "plt.ylabel('Predicted Prices')\n",
    "plt.title('Random Forest: Actual vs Predicted Prices')\n",
    "plt.plot([min(y_test), max(y_test)], [min(y_test), max(y_test)], color='red', linestyle='--')\n",
    "plt.show()"
   ]
  },
  {
   "cell_type": "code",
   "execution_count": 17,
   "metadata": {},
   "outputs": [
    {
     "name": "stdout",
     "output_type": "stream",
     "text": [
      "Model, scaler, and PCA saved successfully.\n"
     ]
    }
   ],
   "source": [
    "# Assuming `price_model_rf`, `scaler`, and `pca` are your trained objects\n",
    "joblib.dump(price_model_rf, 'property_price_model.pkl')\n",
    "joblib.dump(scaler, 'scaler.pkl')\n",
    "joblib.dump(pca, 'pca.pkl')\n",
    "joblib.dump(X.columns, 'feature_columns.pkl')\n",
    "\n",
    "print(\"Model, scaler, and PCA saved successfully.\")\n",
    "\n",
    "\n",
    "# Load the trained RandomForest model, scaler, and PCA\n",
    "price_model_rf = joblib.load('property_price_model.pkl')\n",
    "scaler = joblib.load('scaler.pkl')\n",
    "pca = joblib.load('pca.pkl')"
   ]
  }
 ],
 "metadata": {
  "kernelspec": {
   "display_name": "Python 3",
   "language": "python",
   "name": "python3"
  },
  "language_info": {
   "codemirror_mode": {
    "name": "ipython",
    "version": 3
   },
   "file_extension": ".py",
   "mimetype": "text/x-python",
   "name": "python",
   "nbconvert_exporter": "python",
   "pygments_lexer": "ipython3",
   "version": "3.11.2"
  }
 },
 "nbformat": 4,
 "nbformat_minor": 2
}
